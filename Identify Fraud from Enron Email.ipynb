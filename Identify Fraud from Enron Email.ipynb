{
 "cells": [
  {
   "cell_type": "markdown",
   "metadata": {},
   "source": [
    "# Identifying Fraud from Enron Emails"
   ]
  },
  {
   "cell_type": "code",
   "execution_count": 1,
   "metadata": {},
   "outputs": [],
   "source": [
    "#import all modules which are listed in poi_id\n",
    "from poi_id import *"
   ]
  },
  {
   "cell_type": "markdown",
   "metadata": {},
   "source": [
    "All modules, including helper_functions.py, are loaded from the poi_id file. "
   ]
  },
  {
   "cell_type": "code",
   "execution_count": 2,
   "metadata": {},
   "outputs": [],
   "source": [
    "### Task 1: Select what features you'll use.\n",
    "### features_list is a list of strings, each of which is a feature name.\n",
    "### The first feature must be \"poi\".\n",
    "financial_features = ['salary', 'deferral_payments', 'total_payments', \\\n",
    "                     'loan_advances', 'bonus', 'restricted_stock_deferred',\\\n",
    "                     'deferred_income', 'total_stock_value', 'expenses', \\\n",
    "                     'exercised_stock_options', 'other', 'long_term_incentive', \\\n",
    "                     'restricted_stock', 'director_fees'] #(all units are in US dollars)\n",
    "\n",
    "email_features = ['to_messages', 'from_poi_to_this_person',\n",
    "                 'from_messages', 'from_this_person_to_poi', 'shared_receipt_with_poi']\n",
    "#(units are generally number of emails messages; notable exception is ‘email_address’, \n",
    "# which is a text string)\n",
    "#email_address feature was removed from list\n",
    "\n",
    "poi_label = ['poi'] ###(boolean, represented as integer)\n",
    "\n",
    "features_list = poi_label + email_features + financial_features"
   ]
  },
  {
   "cell_type": "code",
   "execution_count": 3,
   "metadata": {},
   "outputs": [],
   "source": [
    "### Load the dictionary containing the dataset\n",
    "with open(\"final_project_dataset_unix.pkl\", \"rb\") as data_file:\n",
    "    data_dict = pickle.load(data_file)"
   ]
  },
  {
   "cell_type": "code",
   "execution_count": 4,
   "metadata": {},
   "outputs": [],
   "source": [
    "#convert to a pandas dataframe for exploratory analysis\n",
    "df = pd.DataFrame.from_dict(data_dict, orient='index')\n",
    "\n",
    "#iterate df and convert string 'NaN' to actual np.nan\n",
    "for label, content in df.items():\n",
    "    if label == 'email_address':\n",
    "         for i in content:\n",
    "            if i == 'NaN':\n",
    "                df[label][i] = np.nan            \n",
    "    else:\n",
    "        df[label] = pd.to_numeric(df[label], errors='coerce')"
   ]
  },
  {
   "cell_type": "markdown",
   "metadata": {},
   "source": [
    "Above I defined a list of features and loaded the data into a Panda’s DataFrame. This will simplify the exploratory analysis that follows. I replaced the string ‘NaN’ with actual values for NaN to correctly identify missing values. I also removed the feature 'email_address' because it is a unique identifier that does not contribute towards being a person of interest. It is also a string datatype while the rest are numeric, and removing this unnecessary feature will allow the rest to be equally scaled/normalized."
   ]
  },
  {
   "cell_type": "markdown",
   "metadata": {},
   "source": [
    "### Investigate contents of dataset:"
   ]
  },
  {
   "cell_type": "code",
   "execution_count": 5,
   "metadata": {},
   "outputs": [
    {
     "name": "stdout",
     "output_type": "stream",
     "text": [
      "The total number of data points (people) in our data set is 146.\n",
      "\n"
     ]
    }
   ],
   "source": [
    "# Total Number of data points\n",
    "total_people = df.shape[0]\n",
    "print 'The total number of data points (people) in our data set is {}.\\n'.format\\\n",
    "      (total_people)"
   ]
  },
  {
   "cell_type": "code",
   "execution_count": 6,
   "metadata": {},
   "outputs": [
    {
     "name": "stdout",
     "output_type": "stream",
     "text": [
      "There are 21 features for each person in our dataset.\n",
      "\n"
     ]
    }
   ],
   "source": [
    "# Total Number of Features Used\n",
    "all_features = df.shape[1]\n",
    "print 'There are {} features for each person in our dataset.\\n'.format(all_features)"
   ]
  },
  {
   "cell_type": "code",
   "execution_count": 7,
   "metadata": {},
   "outputs": [
    {
     "name": "stdout",
     "output_type": "stream",
     "text": [
      "Our dataset has 18 persons of interest.\n",
      "\n"
     ]
    }
   ],
   "source": [
    "# Total Number of Persons Of Interest (POIs)\n",
    "poi_count = df['poi'][(df['poi'] == True)].count()\n",
    "print 'Our dataset has {} persons of interest.\\n'.format(poi_count)"
   ]
  },
  {
   "cell_type": "code",
   "execution_count": 8,
   "metadata": {},
   "outputs": [
    {
     "name": "stdout",
     "output_type": "stream",
     "text": [
      "Our dataset has 128 Non persons of interest.\n",
      "\n"
     ]
    }
   ],
   "source": [
    "# Total Number of Non-POIs\n",
    "non_poi_count = total_people - poi_count\n",
    "print 'Our dataset has {} Non persons of interest.\\n'.format(non_poi_count)"
   ]
  },
  {
   "cell_type": "code",
   "execution_count": 9,
   "metadata": {},
   "outputs": [
    {
     "name": "stdout",
     "output_type": "stream",
     "text": [
      "The following categories have missing values (NaN values)\n",
      "\n",
      "salary                        51\n",
      "to_messages                   60\n",
      "deferral_payments            107\n",
      "total_payments                21\n",
      "exercised_stock_options       44\n",
      "bonus                         64\n",
      "restricted_stock              36\n",
      "shared_receipt_with_poi       60\n",
      "restricted_stock_deferred    128\n",
      "total_stock_value             20\n",
      "expenses                      51\n",
      "loan_advances                142\n",
      "from_messages                 60\n",
      "other                         53\n",
      "from_this_person_to_poi       60\n",
      "poi                            0\n",
      "director_fees                129\n",
      "deferred_income               97\n",
      "long_term_incentive           80\n",
      "email_address                  0\n",
      "from_poi_to_this_person       60\n",
      "dtype: int64\n"
     ]
    }
   ],
   "source": [
    "# Features with missing values?\n",
    "print 'The following categories have missing values (NaN values)\\n'\n",
    "print df.isna().sum()"
   ]
  },
  {
   "cell_type": "markdown",
   "metadata": {},
   "source": [
    "Above we can see we have numerous categories that have missing values. We also have some unevenly distributed classes with there being only 18 POIs and 128 Non-POIs.  Next, I will plot a few features of interest to help visualize some extreme datapoint outliers."
   ]
  },
  {
   "cell_type": "markdown",
   "metadata": {},
   "source": [
    "### Task 2: Remove outliers"
   ]
  },
  {
   "cell_type": "code",
   "execution_count": 10,
   "metadata": {},
   "outputs": [
    {
     "data": {
      "image/png": "[encoded data removed]",
      "text/plain": [
       "<Figure size 432x288 with 1 Axes>"
      ]
     },
     "metadata": {
      "needs_background": "light"
     },
     "output_type": "display_data"
    }
   ],
   "source": [
    "visualize_features('salary', 'bonus', data_dict)"
   ]
  },
  {
   "cell_type": "code",
   "execution_count": 11,
   "metadata": {},
   "outputs": [
    {
     "data": {
      "image/png": "[encoded data removed]",
      "text/plain": [
       "<Figure size 432x288 with 1 Axes>"
      ]
     },
     "metadata": {
      "needs_background": "light"
     },
     "output_type": "display_data"
    }
   ],
   "source": [
    "visualize_features('from_poi_to_this_person', 'from_this_person_to_poi', data_dict)"
   ]
  },
  {
   "cell_type": "code",
   "execution_count": 12,
   "metadata": {},
   "outputs": [
    {
     "data": {
      "image/png": "[encoded data removed]",
      "text/plain": [
       "<Figure size 432x288 with 1 Axes>"
      ]
     },
     "metadata": {
      "needs_background": "light"
     },
     "output_type": "display_data"
    }
   ],
   "source": [
    "visualize_features('loan_advances', 'total_stock_value', data_dict)"
   ]
  },
  {
   "cell_type": "markdown",
   "metadata": {},
   "source": [
    "Above we can see some outliers that are present in all the features, this will be explored further to help locate the source."
   ]
  },
  {
   "cell_type": "code",
   "execution_count": 13,
   "metadata": {},
   "outputs": [
    {
     "name": "stdout",
     "output_type": "stream",
     "text": [
      "Searching for Outliers...\n",
      "\n",
      "The top 4 highest salary are: \n",
      "\n",
      "TOTAL                 26704229.0\n",
      "SKILLING JEFFREY K     1111258.0\n",
      "LAY KENNETH L          1072321.0\n",
      "FREVERT MARK A         1060932.0\n",
      "Name: salary, dtype: float64\n",
      "\n",
      "\n",
      "The top 4 highest bonus are: \n",
      "\n",
      "TOTAL                 97343619.0\n",
      "LAVORATO JOHN J        8000000.0\n",
      "LAY KENNETH L          7000000.0\n",
      "SKILLING JEFFREY K     5600000.0\n",
      "Name: bonus, dtype: float64\n",
      "\n",
      "\n",
      "The top 4 highest from_poi_to_this_person are: \n",
      "\n",
      "LAVORATO JOHN J     528.0\n",
      "DIETRICH JANET R    305.0\n",
      "KITCHEN LOUISE      251.0\n",
      "FREVERT MARK A      242.0\n",
      "Name: from_poi_to_this_person, dtype: float64\n",
      "\n",
      "\n",
      "The top 4 highest from_this_person_to_poi are: \n",
      "\n",
      "DELAINEY DAVID W    609.0\n",
      "LAVORATO JOHN J     411.0\n",
      "KEAN STEVEN J       387.0\n",
      "BECK SALLY W        386.0\n",
      "Name: from_this_person_to_poi, dtype: float64\n",
      "\n",
      "\n",
      "The top 4 highest loan_advances are: \n",
      "\n",
      "TOTAL               83925000.0\n",
      "LAY KENNETH L       81525000.0\n",
      "FREVERT MARK A       2000000.0\n",
      "PICKERING MARK R      400000.0\n",
      "Name: loan_advances, dtype: float64\n",
      "\n",
      "\n",
      "The top 4 highest total_stock_value are: \n",
      "\n",
      "TOTAL                 434509511.0\n",
      "LAY KENNETH L          49110078.0\n",
      "HIRKO JOSEPH           30766064.0\n",
      "SKILLING JEFFREY K     26093672.0\n",
      "Name: total_stock_value, dtype: float64\n"
     ]
    }
   ],
   "source": [
    "print 'Searching for Outliers...'\n",
    "find_outlier('salary', df)\n",
    "print \n",
    "find_outlier('bonus', df)\n",
    "print\n",
    "find_outlier('from_poi_to_this_person', df)\n",
    "print \n",
    "find_outlier('from_this_person_to_poi', df)\n",
    "print \n",
    "find_outlier('loan_advances', df)\n",
    "print \n",
    "find_outlier('total_stock_value', df)"
   ]
  },
  {
   "cell_type": "markdown",
   "metadata": {},
   "source": [
    "The person ‘TOTAL’ appears at the top of a large majority of our categories. This is obviously just a sum of values for all persons in the dataset. This person is not a POI and can be removed from our dataset. The user ‘LAY KENNETH L’, is also present at the top of several of these feature lists. While he would seem to be an outlier, he is actual a POI and will be included as part of my analysis.  "
   ]
  },
  {
   "cell_type": "code",
   "execution_count": 14,
   "metadata": {},
   "outputs": [
    {
     "name": "stdout",
     "output_type": "stream",
     "text": [
      "\n",
      "The top 5 people by number of NaN columns are:\n",
      "\n",
      "LOCKHART EUGENE E                19\n",
      "GRAMM WENDY L                    17\n",
      "WROBEL BRUCE                     17\n",
      "WODRASKA JOHN                    17\n",
      "THE TRAVEL AGENCY IN THE PARK    17\n",
      "dtype: int64\n"
     ]
    }
   ],
   "source": [
    "#get a count of number of NaN columns for each person\n",
    "nan_count = df.isna().sum(axis=1)\n",
    "\n",
    "print '\\nThe top 5 people by number of NaN columns are:\\n'\n",
    "print nan_count.sort_values(ascending=False).head(5)"
   ]
  },
  {
   "cell_type": "markdown",
   "metadata": {},
   "source": [
    "Above, I wanted to see what users had the most ‘NaN’ columns in our dataset. I sorted these by the top 5 users that have columns with missing values. "
   ]
  },
  {
   "cell_type": "code",
   "execution_count": 15,
   "metadata": {},
   "outputs": [
    {
     "name": "stdout",
     "output_type": "stream",
     "text": [
      "\n",
      "Looking closer at Eugene Lockhart...\n",
      "\n",
      "salary                         NaN\n",
      "to_messages                    NaN\n",
      "deferral_payments              NaN\n",
      "total_payments                 NaN\n",
      "exercised_stock_options        NaN\n",
      "bonus                          NaN\n",
      "restricted_stock               NaN\n",
      "shared_receipt_with_poi        NaN\n",
      "restricted_stock_deferred      NaN\n",
      "total_stock_value              NaN\n",
      "expenses                       NaN\n",
      "loan_advances                  NaN\n",
      "from_messages                  NaN\n",
      "other                          NaN\n",
      "from_this_person_to_poi        NaN\n",
      "poi                          False\n",
      "director_fees                  NaN\n",
      "deferred_income                NaN\n",
      "long_term_incentive            NaN\n",
      "email_address                  NaN\n",
      "from_poi_to_this_person        NaN\n",
      "Name: LOCKHART EUGENE E, dtype: object\n"
     ]
    }
   ],
   "source": [
    "print '\\nLooking closer at Eugene Lockhart...\\n'\n",
    "print df.loc['LOCKHART EUGENE E']"
   ]
  },
  {
   "cell_type": "markdown",
   "metadata": {},
   "source": [
    "The user ‘LOCKHART EUGENE E’ has missing values for all columns except POI, which was false since he was not on the original POI list. This user will be removed from the dataset since he has no useful information. "
   ]
  },
  {
   "cell_type": "code",
   "execution_count": 16,
   "metadata": {},
   "outputs": [
    {
     "name": "stdout",
     "output_type": "stream",
     "text": [
      "\n",
      "Looking closer at THE TRAVEL AGENCY IN THE PARK...\n",
      "\n",
      "salary                          NaN\n",
      "to_messages                     NaN\n",
      "deferral_payments               NaN\n",
      "total_payments               362096\n",
      "exercised_stock_options         NaN\n",
      "bonus                           NaN\n",
      "restricted_stock                NaN\n",
      "shared_receipt_with_poi         NaN\n",
      "restricted_stock_deferred       NaN\n",
      "total_stock_value               NaN\n",
      "expenses                        NaN\n",
      "loan_advances                   NaN\n",
      "from_messages                   NaN\n",
      "other                        362096\n",
      "from_this_person_to_poi         NaN\n",
      "poi                           False\n",
      "director_fees                   NaN\n",
      "deferred_income                 NaN\n",
      "long_term_incentive             NaN\n",
      "email_address                   NaN\n",
      "from_poi_to_this_person         NaN\n",
      "Name: THE TRAVEL AGENCY IN THE PARK, dtype: object\n"
     ]
    }
   ],
   "source": [
    "print '\\nLooking closer at THE TRAVEL AGENCY IN THE PARK...\\n'\n",
    "print df.loc['THE TRAVEL AGENCY IN THE PARK']"
   ]
  },
  {
   "cell_type": "markdown",
   "metadata": {},
   "source": [
    "The user ‘THE TRAVEL AGENCY IN THE PARK’ seems out of place to be a POI. Is this a business? A person? The alias of some illegal money laundering scheme? The only features this user has are for total_payments and other, with the same value for each. I am going to remove this user from my investigation. "
   ]
  },
  {
   "cell_type": "code",
   "execution_count": 17,
   "metadata": {},
   "outputs": [],
   "source": [
    "### Remove outliers\n",
    "df = df.drop(['TOTAL'], axis=0)\n",
    "df = df.drop([\"LOCKHART EUGENE E\"], axis=0)\n",
    "df = df.drop([\"THE TRAVEL AGENCY IN THE PARK\"], axis=0)\n",
    "\n",
    "#replace NaN with 0\n",
    "df = df.fillna(0)"
   ]
  },
  {
   "cell_type": "markdown",
   "metadata": {},
   "source": [
    "Above I dropped the 3 users that seemed to be outliers. I also filled all missing values with the value of 0. Next I will create some new features that could be of use for my investigation.  "
   ]
  },
  {
   "cell_type": "markdown",
   "metadata": {},
   "source": [
    "### Task 3: Create new feature(s)"
   ]
  },
  {
   "cell_type": "code",
   "execution_count": 18,
   "metadata": {},
   "outputs": [],
   "source": [
    "### Store to my_dataset for easy export below.\n",
    "my_dataset = df.to_dict('index')"
   ]
  },
  {
   "cell_type": "code",
   "execution_count": 19,
   "metadata": {},
   "outputs": [
    {
     "name": "stdout",
     "output_type": "stream",
     "text": [
      "['poi',\n",
      " 'to_messages',\n",
      " 'from_poi_to_this_person',\n",
      " 'from_messages',\n",
      " 'from_this_person_to_poi',\n",
      " 'shared_receipt_with_poi',\n",
      " 'salary',\n",
      " 'deferral_payments',\n",
      " 'total_payments',\n",
      " 'loan_advances',\n",
      " 'bonus',\n",
      " 'restricted_stock_deferred',\n",
      " 'deferred_income',\n",
      " 'total_stock_value',\n",
      " 'expenses',\n",
      " 'exercised_stock_options',\n",
      " 'other',\n",
      " 'long_term_incentive',\n",
      " 'restricted_stock',\n",
      " 'director_fees',\n",
      " 'to_poi_ratio',\n",
      " 'from_poi_ratio']\n"
     ]
    }
   ],
   "source": [
    "for person in my_dataset:\n",
    "    to_poi_count = my_dataset[person]['from_this_person_to_poi']\n",
    "    from_poi_count = my_dataset[person]['from_poi_to_this_person']\n",
    "    total_received_emails = my_dataset[person]['from_messages']\n",
    "    total_sent_emails = my_dataset[person]['to_messages']\n",
    "    \n",
    "    try:\n",
    "        my_dataset[person]['to_poi_ratio'] = float(to_poi_count) / float(total_sent_emails)\n",
    "    except:\n",
    "        my_dataset[person]['to_poi_ratio'] = 0\n",
    "    try:\n",
    "        my_dataset[person]['from_poi_ratio'] = float(from_poi_count) / float(total_received_emails)\n",
    "    except:\n",
    "        my_dataset[person]['from_poi_ratio'] = 0\n",
    "\n",
    "features_list = features_list + ['to_poi_ratio', 'from_poi_ratio']\n",
    "pprint(features_list)"
   ]
  },
  {
   "cell_type": "markdown",
   "metadata": {},
   "source": [
    "I created two new features to investigate the percentage of emails a person sent to and received from a person of interest, out of their total emails sent/received. This percentage should reflect unusual levels of communication with persons of interest.   "
   ]
  },
  {
   "cell_type": "markdown",
   "metadata": {},
   "source": [
    "### Preprocessing"
   ]
  },
  {
   "cell_type": "code",
   "execution_count": 20,
   "metadata": {},
   "outputs": [],
   "source": [
    "### Extract features and labels from dataset for local testing\n",
    "data = featureFormat(my_dataset, features_list, sort_keys = True)\n",
    "labels, features = targetFeatureSplit(data)"
   ]
  },
  {
   "cell_type": "code",
   "execution_count": 21,
   "metadata": {},
   "outputs": [],
   "source": [
    "#Scaling features (normalizing all features)\n",
    "min_max_scaler = MinMaxScaler()\n",
    "features = min_max_scaler.fit_transform(features)"
   ]
  },
  {
   "cell_type": "markdown",
   "metadata": {},
   "source": [
    "Above, I scaled all features to be between the minimum and maximum values. This will provide equal weight for all features.    "
   ]
  },
  {
   "cell_type": "code",
   "execution_count": 22,
   "metadata": {},
   "outputs": [
    {
     "name": "stdout",
     "output_type": "stream",
     "text": [
      "[24.815079733218194,\n",
      " 24.182898678566872,\n",
      " 20.792252047181538,\n",
      " 18.289684043404513,\n",
      " 11.458476579280697,\n",
      " 9.922186013189839,\n",
      " 9.212810621977086,\n",
      " 8.772777730091681,\n",
      " 8.589420731682377,\n",
      " 7.184055658288725,\n",
      " 6.094173310638967,\n",
      " 5.243449713374957,\n",
      " 5.12394615275689,\n",
      " 4.1874775069953785,\n",
      " 4.094653309576945,\n",
      " 2.3826121082276743,\n",
      " 2.126327802007705,\n",
      " 1.6463411294420094,\n",
      " 0.2246112747360051,\n",
      " 0.16970094762175436,\n",
      " 0.06549965290989124]\n"
     ]
    }
   ],
   "source": [
    "### Select the best features:\n",
    "# Removes all but the k highest scoring features\n",
    "n = 6 # adjust for optimization\n",
    "skb = SelectKBest(f_classif, k=n)\n",
    "skb.fit_transform(features, labels)\n",
    "pprint(sorted(skb.scores_, reverse=True))"
   ]
  },
  {
   "cell_type": "code",
   "execution_count": 23,
   "metadata": {},
   "outputs": [
    {
     "name": "stdout",
     "output_type": "stream",
     "text": [
      "\n",
      "Our 6 highest feature scores are:\n",
      "[('exercised_stock_options', 24.815079733218194),\n",
      " ('total_stock_value', 24.182898678566872),\n",
      " ('bonus', 20.792252047181538),\n",
      " ('salary', 18.289684043404513),\n",
      " ('deferred_income', 11.458476579280697),\n",
      " ('long_term_incentive', 9.922186013189839)]\n",
      "\n",
      "Our new features list includes: \n",
      "['poi',\n",
      " 'exercised_stock_options',\n",
      " 'total_stock_value',\n",
      " 'bonus',\n",
      " 'salary',\n",
      " 'deferred_income',\n",
      " 'long_term_incentive']\n"
     ]
    }
   ],
   "source": [
    "#skip poi feature and combine with returned scores (key:value --> feature:score)\n",
    "scores = zip(features_list[1:], skb.scores_)\n",
    "\n",
    "#sort by highest scoring feature from scores\n",
    "sorted_scores = sorted(scores, key = lambda x: x[1], reverse=True)\n",
    "print '\\nOur {} highest feature scores are:'.format(n)\n",
    "pprint(sorted_scores[:n])\n",
    "                                      \n",
    "#add k highest scoring features to create new features_list\n",
    "new_features_list = poi_label + list(map(lambda x: x[0], sorted_scores))[:n]\n",
    "print '\\nOur new features list includes: '\n",
    "pprint(new_features_list)"
   ]
  },
  {
   "cell_type": "code",
   "execution_count": 24,
   "metadata": {},
   "outputs": [],
   "source": [
    "### Extract features and labels from dataset using new optimized features_list\n",
    "data = featureFormat(my_dataset, new_features_list, sort_keys = True)\n",
    "labels, features = targetFeatureSplit(data)"
   ]
  },
  {
   "cell_type": "markdown",
   "metadata": {},
   "source": [
    "I used the SelectKBest classifier to find the features that had the strongest influence on determining a POI. I adjusted the value for k to be between 2-10 and found that the best scoring algorithm used 6 features. These features, including the feature ‘poi’, were then added to a newly optimized feature list. \n",
    "\n",
    "By normalizing the data and selecting the best features, I have enough to do a preliminary investigation using out of the box algorithms. Next, I will try fitting a variety of these algorithms with my data. "
   ]
  },
  {
   "cell_type": "markdown",
   "metadata": {},
   "source": [
    "### Task 4: Try a variety of classifiers"
   ]
  },
  {
   "cell_type": "code",
   "execution_count": 25,
   "metadata": {},
   "outputs": [
    {
     "name": "stdout",
     "output_type": "stream",
     "text": [
      "\n",
      "Running GaussianNB classifier...\n",
      "\n",
      "For 100 iterations of different features/labels splits, our results are:\n",
      "Mean Accuracy Score is: 0.859047619048\n",
      "Median Accuracy Score is: 0.857142857143\n",
      "\n",
      "Mean Precision Score is: 0.440170634921\n",
      "Median Precision Score is: 0.4\n",
      "\n",
      "Mean Recall Score is: 0.378\n",
      "Median Recall Score is: 0.4\n",
      "\n",
      "Mean f1 Score is: 0.38295611578\n",
      "Median f1 Score is: 0.4\n"
     ]
    }
   ],
   "source": [
    "print ('\\nRunning GaussianNB classifier...')\n",
    "run_classifier(GaussianNB(), features, labels)"
   ]
  },
  {
   "cell_type": "code",
   "execution_count": 26,
   "metadata": {},
   "outputs": [
    {
     "name": "stdout",
     "output_type": "stream",
     "text": [
      "\n",
      "Running SVM classifier...\n",
      "\n",
      "For 100 iterations of different features/labels splits, our results are:\n",
      "Mean Accuracy Score is: 0.880952380952\n",
      "Median Accuracy Score is: 0.880952380952\n",
      "\n",
      "Mean Precision Score is: 0.0\n",
      "Median Precision Score is: 0.0\n",
      "\n",
      "Mean Recall Score is: 0.0\n",
      "Median Recall Score is: 0.0\n",
      "\n",
      "Mean f1 Score is: 0.0\n",
      "Median f1 Score is: 0.0\n"
     ]
    }
   ],
   "source": [
    "print ('\\nRunning SVM classifier...')\n",
    "run_classifier(SVC(), features, labels)"
   ]
  },
  {
   "cell_type": "code",
   "execution_count": 27,
   "metadata": {},
   "outputs": [
    {
     "name": "stdout",
     "output_type": "stream",
     "text": [
      "\n",
      "Running AdaBoost classifier...\n",
      "\n",
      "For 100 iterations of different features/labels splits, our results are:\n",
      "Mean Accuracy Score is: 0.823333333333\n",
      "Median Accuracy Score is: 0.833333333333\n",
      "\n",
      "Mean Precision Score is: 0.217865079365\n",
      "Median Precision Score is: 0.2\n",
      "\n",
      "Mean Recall Score is: 0.19\n",
      "Median Recall Score is: 0.2\n",
      "\n",
      "Mean f1 Score is: 0.193690642691\n",
      "Median f1 Score is: 0.2\n"
     ]
    }
   ],
   "source": [
    "print ('\\nRunning AdaBoost classifier...')\n",
    "run_classifier(AdaBoostClassifier(), features, labels)"
   ]
  },
  {
   "cell_type": "code",
   "execution_count": 28,
   "metadata": {},
   "outputs": [
    {
     "name": "stdout",
     "output_type": "stream",
     "text": [
      "\n",
      "Running DecisionTree classifier...\n",
      "\n",
      "For 100 iterations of different features/labels splits, our results are:\n",
      "Mean Accuracy Score is: 0.806428571429\n",
      "Median Accuracy Score is: 0.809523809524\n",
      "\n",
      "Mean Precision Score is: 0.241436840937\n",
      "Median Precision Score is: 0.25\n",
      "\n",
      "Mean Recall Score is: 0.282\n",
      "Median Recall Score is: 0.2\n",
      "\n",
      "Mean f1 Score is: 0.249292038027\n",
      "Median f1 Score is: 0.222222222222\n"
     ]
    }
   ],
   "source": [
    "print ('\\nRunning DecisionTree classifier...')\n",
    "run_classifier(DecisionTreeClassifier(), features, labels)"
   ]
  },
  {
   "cell_type": "markdown",
   "metadata": {},
   "source": [
    "Above, the run_classifier function used the train_test_split cross validation technique to split the data into different groups of training and test sets. I used the stratify parameter to ensure the test/training splits included the same ratio of POI labels in each set. I hard coded the function to run a default of 100 iterations, thus 100 different groups of training and testing data. I then calculated the mean and median for accuracy score, precision score, recall score, and f1 scores for each algorithm. The best results came from the GaussianNB Classifier. \n",
    "\n",
    "Next, I will adjust various parameters to try to fine tune each algorithm for better performance.  "
   ]
  },
  {
   "cell_type": "markdown",
   "metadata": {},
   "source": [
    "### Task 5: Tune your classifier to achieve better than .3 precision and recall "
   ]
  },
  {
   "cell_type": "code",
   "execution_count": 29,
   "metadata": {},
   "outputs": [],
   "source": [
    "### RE-Extract features and labels from dataset for local testing\n",
    "data = featureFormat(my_dataset, features_list, sort_keys = True)\n",
    "labels, features = targetFeatureSplit(data)"
   ]
  },
  {
   "cell_type": "markdown",
   "metadata": {},
   "source": [
    "Above, I reinitialized my labels and features using the full features_list that included the two new features I created. I will use this original (unscaled) form of the data below when I fit each algorithm using a combination of a Pipeline and GridSearchCV to find the ideal set of parameters that maximizes each algorithm."
   ]
  },
  {
   "cell_type": "code",
   "execution_count": 30,
   "metadata": {},
   "outputs": [
    {
     "name": "stdout",
     "output_type": "stream",
     "text": [
      "\n",
      "The best fit SVM has the following scores:\n",
      "\n",
      "Accuracy Score: 0.906976744186\n",
      "Precision Score: 1.0\n",
      "Recall Score: 0.2\n",
      "F1 Score: 0.333333333333\n",
      "\n",
      "The best fit parameters are:\n",
      "SVM__C : 10\n",
      "SVM__gamma : 100\n",
      "SVM__kernel : rbf\n",
      "SKB__k : 4\n"
     ]
    }
   ],
   "source": [
    "# Adjust SVM parameters to refine accuracy\n",
    "print ('\\nThe best fit SVM has the following scores:\\n')\n",
    "svm_steps = [('scaler', MinMaxScaler()), ('SKB', SelectKBest()),\n",
    "             ('SVM', SVC())]\n",
    "svm_parameters = {'SVM__kernel': ('linear', 'rbf'), \n",
    "              'SVM__C':[0.001, 0.01, .1, 1, 10, 100, 1000], \n",
    "              'SVM__gamma':[0.01, .1, 1, 10, 100, 1000],\n",
    "                 'SKB__k': [2,3,4,5,6,7,8,9,10]}\n",
    "svm_clf = fine_tune_algorithm(svm_steps, svm_parameters, features, labels)"
   ]
  },
  {
   "cell_type": "code",
   "execution_count": 31,
   "metadata": {},
   "outputs": [
    {
     "name": "stdout",
     "output_type": "stream",
     "text": [
      "\n",
      "The best fit DecisionTreeClassifer has the following scores:\n",
      "\n",
      "Accuracy Score: 0.813953488372\n",
      "Precision Score: 0.285714285714\n",
      "Recall Score: 0.4\n",
      "F1 Score: 0.333333333333\n",
      "\n",
      "The best fit parameters are:\n",
      "DT__criterion : gini\n",
      "SKB__k : 5\n",
      "DT__min_samples_split : 2\n",
      "DT__random_state : 13\n"
     ]
    }
   ],
   "source": [
    "# Adjust DecisionTreeClassifier parameters to refine accuracy\n",
    "print ('\\nThe best fit DecisionTreeClassifer has the following scores:\\n')\n",
    "dt_steps = [('scaler', MinMaxScaler()), ('SKB', SelectKBest()), \n",
    "            ('DT', DecisionTreeClassifier())]\n",
    "dt_parameters = {'DT__criterion': ('gini', 'entropy'), \n",
    "              'DT__min_samples_split':[2,3,4,5,6,7,8,9,10],\n",
    "                 'DT__random_state':[13],\n",
    "                 'SKB__k': [2,3,4,5,6,7,8,9,10]}\n",
    "dt_clf = fine_tune_algorithm(dt_steps, dt_parameters, features, labels)"
   ]
  },
  {
   "cell_type": "code",
   "execution_count": 32,
   "metadata": {},
   "outputs": [
    {
     "name": "stdout",
     "output_type": "stream",
     "text": [
      "\n",
      "The best fit AdaBoostClassifier has the following scores:\n",
      "\n",
      "Accuracy Score: 0.860465116279\n",
      "Precision Score: 0.333333333333\n",
      "Recall Score: 0.2\n",
      "F1 Score: 0.25\n",
      "\n",
      "The best fit parameters are:\n",
      "SKB__k : 5\n",
      "AB__learning_rate : 0.9\n",
      "AB__algorithm : SAMME\n"
     ]
    }
   ],
   "source": [
    "# Adjust AdaBoostClassifier parameters to refine accuracy\n",
    "print ('\\nThe best fit AdaBoostClassifier has the following scores:\\n')\n",
    "ab_steps = [('scaler', MinMaxScaler()), ('SKB', SelectKBest()),\n",
    "            ('AB', AdaBoostClassifier())]\n",
    "ab_parameters = {'AB__algorithm': ('SAMME', 'SAMME.R'), \n",
    "              'AB__learning_rate':[.5, .6, .7, .8, .9, 1],\n",
    "                 'SKB__k': [2,3,4,5,6,7,8,9,10]}\n",
    "ada_clf = fine_tune_algorithm(ab_steps, ab_parameters, features, labels)"
   ]
  },
  {
   "cell_type": "code",
   "execution_count": 33,
   "metadata": {
    "scrolled": true
   },
   "outputs": [
    {
     "name": "stdout",
     "output_type": "stream",
     "text": [
      "\n",
      "The best fit GaussianNB Classifier has the following scores:\n",
      "\n",
      "Accuracy Score: 0.837209302326\n",
      "Precision Score: 0.333333333333\n",
      "Recall Score: 0.4\n",
      "F1 Score: 0.363636363636\n",
      "\n",
      "The best fit parameters are:\n",
      "SKB__k : 4\n"
     ]
    }
   ],
   "source": [
    "# Adjust GaussianNB parameters to refine accuracy\n",
    "print ('\\nThe best fit GaussianNB Classifier has the following scores:\\n')\n",
    "nb_steps = [('scaler', MinMaxScaler()), ('SKB', SelectKBest()), ('NB', GaussianNB())]\n",
    "nb_parameters = {'SKB__k': [2,3,4,5,6,7,8,9,10]}\n",
    "nb_clf = fine_tune_algorithm(nb_steps, nb_parameters, features, labels)"
   ]
  },
  {
   "cell_type": "markdown",
   "metadata": {},
   "source": [
    "Above, I used a function I created, fine_tune_algorithm, to try a variety of parameters using the GridSearchCV method. In this function I implemented a sklearn Pipeline to first use a MinMaxScaler to scale the features, the SelectKBest algorithm to find the best features, then a variety of specific algorithm parameters to try finding the best fitting model.\n",
    "\n",
    "With the GridSearchCV algorithm I used the scoring parameter to fit the algorithm based on the best f1 score found. I know f1 score is a good point of balance between precision and recall and felt it was the best indication of a well performing fit. \n",
    "\n",
    "Ultimately the GaussianNB algorithm again proved to be the best overall with good scores for accuracy, precision, recall, and f1 score. This will be the final one I submit for the project. It utilizes the best 4 features it determined using SelectKBest and is the best fitting model. \n"
   ]
  }
 ],
 "metadata": {
  "kernelspec": {
   "display_name": "Python [conda env:py27] *",
   "language": "python",
   "name": "conda-env-py27-py"
  },
  "language_info": {
   "codemirror_mode": {
    "name": "ipython",
    "version": 2
   },
   "file_extension": ".py",
   "mimetype": "text/x-python",
   "name": "python",
   "nbconvert_exporter": "python",
   "pygments_lexer": "ipython2",
   "version": "2.7.18"
  }
 },
 "nbformat": 4,
 "nbformat_minor": 2
}
